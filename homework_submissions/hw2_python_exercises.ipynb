{
 "cells": [
  {
   "attachments": {},
   "cell_type": "markdown",
   "metadata": {},
   "source": [
    "# Exercises for Module 1: Intro to Python\n",
    "\n",
    "This set of exercises works through some basic python functionality. Just a note that we have used some functions from a module called numpy to create the exercises, but nothing you write should need it although you can use it if you'd like. We'll be learning more about numpy in the next module."
   ]
  },
  {
   "cell_type": "code",
   "execution_count": 7,
   "metadata": {},
   "outputs": [],
   "source": [
    "import numpy as np"
   ]
  },
  {
   "attachments": {},
   "cell_type": "markdown",
   "metadata": {},
   "source": [
    "#### 1.) Write code to translate a boolean value to a string. Specifically, if the `testval` is `True` then print \"Yes\" and if it is `False` then print \"No\"\n"
   ]
  },
  {
   "cell_type": "code",
   "execution_count": 5,
   "metadata": {},
   "outputs": [
    {
     "name": "stdout",
     "output_type": "stream",
     "text": [
      "Yes\n",
      "True\n"
     ]
    }
   ],
   "source": [
    "testval = bool(np.random.choice([0, 1]))\n",
    "# TODO: Your code here\n",
    "if testval is True:\n",
    "    message = 'Yes'\n",
    "else:\n",
    "    message = 'No'\n",
    "print(message)\n",
    "print(testval)"
   ]
  },
  {
   "attachments": {},
   "cell_type": "markdown",
   "metadata": {},
   "source": [
    "\n",
    "#### 2.) You will be given a random integer, and your goal is to return the same value, but as a negative number. Notice, the number you are given may already be negative"
   ]
  },
  {
   "cell_type": "code",
   "execution_count": 7,
   "metadata": {},
   "outputs": [
    {
     "name": "stdout",
     "output_type": "stream",
     "text": [
      "84 -84\n"
     ]
    },
    {
     "name": "stderr",
     "output_type": "stream",
     "text": [
      "/tmp/ipykernel_9595/1999257612.py:1: DeprecationWarning: This function is deprecated. Please call randint(-100, 100 + 1) instead\n",
      "  testval = np.random.random_integers(-100, 100)\n"
     ]
    }
   ],
   "source": [
    "testval = np.random.random_integers(-100, 100)\n",
    "# TODO: Your code here\n",
    "negval = -abs(testval)\n",
    "print(testval, negval)"
   ]
  },
  {
   "attachments": {},
   "cell_type": "markdown",
   "metadata": {},
   "source": [
    "#### 3.) Given a list of random integers, return them sorted from low to high. \n",
    "NOTE: I do not want you to write your own sorting algorithm, but want you to look up how to do this using the python standard library"
   ]
  },
  {
   "cell_type": "code",
   "execution_count": 8,
   "metadata": {},
   "outputs": [
    {
     "name": "stdout",
     "output_type": "stream",
     "text": [
      "[-87, -79, -71, -16, -9, -9, 21, 35, 69, 72]\n"
     ]
    },
    {
     "name": "stderr",
     "output_type": "stream",
     "text": [
      "/tmp/ipykernel_9595/1357539322.py:1: DeprecationWarning: This function is deprecated. Please call randint(-100, 100 + 1) instead\n",
      "  random_vals = np.random.random_integers(-100, 100, 10)\n"
     ]
    }
   ],
   "source": [
    "random_vals = np.random.random_integers(-100, 100, 10)\n",
    "# TODO: Your code here\n",
    "sorted_vals = sorted(random_vals)\n",
    "print(sorted_vals)\n"
   ]
  },
  {
   "attachments": {},
   "cell_type": "markdown",
   "metadata": {},
   "source": [
    "\n",
    "#### 4.) Given a list of US locations with the format: \"CityName, StateAbbrev\" filter out any that are not in Arizona (AZ).\n"
   ]
  },
  {
   "cell_type": "code",
   "execution_count": 11,
   "metadata": {},
   "outputs": [
    {
     "name": "stdout",
     "output_type": "stream",
     "text": [
      "['Kingman, AZ', 'Bisbee, AZ']\n"
     ]
    }
   ],
   "source": [
    "city_list = [\n",
    "    \"New York, NY\",\n",
    "    \"Chattanooga, TN\",\n",
    "    \"Hobart, MN\",\n",
    "    \"Kingman, AZ\",\n",
    "    \"Yachats, OR\",\n",
    "    \"Bisbee, AZ\",\n",
    "    \"Muskogee, OK\"\n",
    "]\n",
    "#TODO: Your code here\n",
    "az_list = []\n",
    "for city in city_list:\n",
    "    if city.endswith('AZ'):\n",
    "        az_list.append(city)\n",
    "#...\n",
    "print(az_list)"
   ]
  },
  {
   "attachments": {},
   "cell_type": "markdown",
   "metadata": {},
   "source": [
    "\n",
    "#### 5.) The following code doesn't work - can you fix it?"
   ]
  },
  {
   "cell_type": "code",
   "execution_count": null,
   "metadata": {},
   "outputs": [],
   "source": [
    "def multiply(a, b):\n",
    "    # TODO: Your code in here\n",
    "    c = a * b\n",
    "    return c\n",
    "\n",
    "print(multiply(5, 10))"
   ]
  },
  {
   "attachments": {},
   "cell_type": "markdown",
   "metadata": {},
   "source": [
    "#### 6.) Time for a coding interview classic, FizzBuzz\n",
    "The rules of the game:\n",
    " - print numbers from 1 to 100\n",
    " - if the number is divisible by 3 print \"Fizz\"\n",
    " - if the number is divisible by 5 print \"Buzz\"\n",
    " - if the number is divisible by both 3 and 5 print \"FizzBuzz\"\n",
    " - otherwise, print the number\n",
    "\n"
   ]
  },
  {
   "cell_type": "code",
   "execution_count": 15,
   "metadata": {},
   "outputs": [
    {
     "name": "stdout",
     "output_type": "stream",
     "text": [
      "1\n",
      "2\n",
      "3 : Fizz\n",
      "4\n",
      "5 : Buzz\n",
      "6 : Fizz\n",
      "7\n",
      "8\n",
      "9 : Fizz\n",
      "10 : Buzz\n",
      "11\n",
      "12 : Fizz\n",
      "13\n",
      "14\n",
      "15 : FizzBuzz\n",
      "16\n",
      "17\n",
      "18 : Fizz\n",
      "19\n",
      "20 : Buzz\n",
      "21 : Fizz\n",
      "22\n",
      "23\n",
      "24 : Fizz\n",
      "25 : Buzz\n",
      "26\n",
      "27 : Fizz\n",
      "28\n",
      "29\n",
      "30 : FizzBuzz\n",
      "31\n",
      "32\n",
      "33 : Fizz\n",
      "34\n",
      "35 : Buzz\n",
      "36 : Fizz\n",
      "37\n",
      "38\n",
      "39 : Fizz\n",
      "40 : Buzz\n",
      "41\n",
      "42 : Fizz\n",
      "43\n",
      "44\n",
      "45 : FizzBuzz\n",
      "46\n",
      "47\n",
      "48 : Fizz\n",
      "49\n",
      "50 : Buzz\n",
      "51 : Fizz\n",
      "52\n",
      "53\n",
      "54 : Fizz\n",
      "55 : Buzz\n",
      "56\n",
      "57 : Fizz\n",
      "58\n",
      "59\n",
      "60 : FizzBuzz\n",
      "61\n",
      "62\n",
      "63 : Fizz\n",
      "64\n",
      "65 : Buzz\n",
      "66 : Fizz\n",
      "67\n",
      "68\n",
      "69 : Fizz\n",
      "70 : Buzz\n",
      "71\n",
      "72 : Fizz\n",
      "73\n",
      "74\n",
      "75 : FizzBuzz\n",
      "76\n",
      "77\n",
      "78 : Fizz\n",
      "79\n",
      "80 : Buzz\n",
      "81 : Fizz\n",
      "82\n",
      "83\n",
      "84 : Fizz\n",
      "85 : Buzz\n",
      "86\n",
      "87 : Fizz\n",
      "88\n",
      "89\n",
      "90 : FizzBuzz\n",
      "91\n",
      "92\n",
      "93 : Fizz\n",
      "94\n",
      "95 : Buzz\n",
      "96 : Fizz\n",
      "97\n",
      "98\n",
      "99 : Fizz\n",
      "100 : Buzz\n"
     ]
    }
   ],
   "source": [
    "testvals = np.arange(1, 101)\n",
    "#TODO: Your code here\n",
    "# ...\n",
    "for v in testvals:\n",
    "    if (v % 3 == 0) and (v % 5 == 0):\n",
    "        print(v, ': FizzBuzz')\n",
    "    elif v % 3 == 0:\n",
    "        print(v, ': Fizz')\n",
    "    elif v % 5 == 0:\n",
    "        print(v, ': Buzz')\n",
    "    else:\n",
    "        print(v)\n",
    "\n"
   ]
  },
  {
   "attachments": {},
   "cell_type": "markdown",
   "metadata": {},
   "source": [
    "#### 7.) Write a function that takes a list of numbers and returns the mean (average) of the list"
   ]
  },
  {
   "cell_type": "code",
   "execution_count": 8,
   "metadata": {},
   "outputs": [
    {
     "name": "stdout",
     "output_type": "stream",
     "text": [
      "5.5\n",
      "9.0\n"
     ]
    }
   ],
   "source": [
    "testvals = [1,2,3,4,5,6,7,8,9,10]\n",
    "\n",
    "def average(vals):\n",
    "    total = 0\n",
    "    count = 0\n",
    "    for v in vals:\n",
    "        total = total + v\n",
    "        count = count + 1\n",
    "    return total / count\n",
    "\n",
    "def average(vals):\n",
    "    return sum(vals) / len(vals)\n",
    "\n",
    "def average(vals):\n",
    "    return np.mean(vals)\n",
    "\n",
    "print(average(testvals))\n",
    "print(average([9,9,9]))"
   ]
  },
  {
   "cell_type": "code",
   "execution_count": null,
   "metadata": {},
   "outputs": [],
   "source": []
  }
 ],
 "metadata": {
  "language_info": {
   "name": "python"
  },
  "orig_nbformat": 4
 },
 "nbformat": 4,
 "nbformat_minor": 2
}
