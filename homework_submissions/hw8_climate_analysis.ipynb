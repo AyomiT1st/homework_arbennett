{
 "cells": [
  {
   "cell_type": "code",
   "execution_count": null,
   "metadata": {},
   "outputs": [],
   "source": [
    "import xarray as xr\n",
    "import pystac_client\n",
    "import planetary_computer\n",
    "import matplotlib.pyplot as plt\n",
    "import matplotlib as mpl\n",
    "import numpy as np\n",
    "\n",
    "from dask.distributed import Client, LocalCluster"
   ]
  },
  {
   "cell_type": "code",
   "execution_count": null,
   "metadata": {},
   "outputs": [],
   "source": [
    "# TODO: Create a `LocalCluster` object with `n_workers` set to 4 \n",
    "#       and `threads_per_worker` set to 4\n",
    "cluster = LocalCluster(n_workers=4, threads_per_worker=4)\n",
    "\n",
    "# TODO: Create a `Client` object that takes the `cluster` \n",
    "#       object from the prior step as input\n",
    "client = Client(cluster)\n",
    "client"
   ]
  },
  {
   "cell_type": "code",
   "execution_count": null,
   "metadata": {},
   "outputs": [],
   "source": [
    "# TODO: Set the Tucson latitude and longitude. \n",
    "#       Make sure to use the longitude on the \n",
    "#       0 to 360 interval where 0 is the prime meridian\n",
    "tucson_lat = 32.2226\n",
    "tucson_lon = 360 - 110.9747\n",
    "tucson_lon"
   ]
  },
  {
   "cell_type": "code",
   "execution_count": null,
   "metadata": {},
   "outputs": [],
   "source": [
    "path = 'gs://gcp-public-data-arco-era5/ar/1959-2022-6h-1440x721.zarr'\n",
    "era5_ds = xr.open_dataset(path, engine='zarr', chunks='auto')\n",
    "era5_temperature = era5_ds['2m_temperature']"
   ]
  },
  {
   "cell_type": "code",
   "execution_count": null,
   "metadata": {},
   "outputs": [],
   "source": [
    "#TODO: Create a `slice` object that selects every 7th point. Reminder slice notation has \n",
    "# the format of `start, stop, step`.\n",
    "era5_time_slice = slice(0, None, 7)\n",
    "\n",
    "#TODO: Now perform the following operations:\n",
    "# 1. Select the location for the `tucson_lat` and `tucson_lon` from `era5_temperature`\n",
    "#    Make sure to use the `method='nearest'` argument to make sure you will find a location.\n",
    "# 2. Use the `era5_time_slice` to \"index\" select the timestamps\n",
    "# 3. `Resample` the dataset to monthly (using the '1M' string as the value supplied to the `time` key)\n",
    "# 4. Run the `.mean()` function on the resulting data. \n",
    "# 5. Finally, make sure to `.compute()` the values and assign the result to \n",
    "#    the variable `tucson_era5_temperature`. This step may take a couple of minutes.\n",
    "tucson_era5_temperature = era5_temperature.sel(latitude=tucson_lat, longitude=tucson_lon, method='nearest')\n",
    "tucson_era5_temperature = tucson_era5_temperature.isel(time=era5_time_slice)\n",
    "tucson_era5_temperature = tucson_era5_temperature.resample(time='1M').mean().compute()"
   ]
  },
  {
   "cell_type": "code",
   "execution_count": null,
   "metadata": {},
   "outputs": [],
   "source": [
    "# Nothing to do here\n",
    "catalog = pystac_client.Client.open(\n",
    "    \"https://planetarycomputer.microsoft.com/api/stac/v1/\",\n",
    "    modifier=planetary_computer.sign_inplace,\n",
    ")\n",
    "collection = catalog.get_collection(\"cil-gdpcir-cc-by\")\n",
    "summary = collection.summaries.to_dict()\n",
    "available_keys = list(summary.keys())\n",
    "print(available_keys)"
   ]
  },
  {
   "cell_type": "code",
   "execution_count": null,
   "metadata": {},
   "outputs": [],
   "source": [
    "# Nothing to do here\n",
    "# These are the variables available\n",
    "summary['cmip6:variable']"
   ]
  },
  {
   "cell_type": "code",
   "execution_count": null,
   "metadata": {},
   "outputs": [],
   "source": [
    "# Nothing to do here\n",
    "# These are the models available\n",
    "summary['cmip6:source_id']"
   ]
  },
  {
   "cell_type": "code",
   "execution_count": null,
   "metadata": {},
   "outputs": [],
   "source": [
    "# Nothing to do here\n",
    "# These are the scenarios available\n",
    "summary['cmip6:experiment_id']"
   ]
  },
  {
   "cell_type": "code",
   "execution_count": null,
   "metadata": {},
   "outputs": [],
   "source": [
    "# TODO: Fill these out, first, choose any `model`` you would like, \n",
    "#       as well as the SSP2-4.5 `scenario`.\n",
    "model = None\n",
    "scenario = None\n",
    "\n",
    "# Nothing to do here\n",
    "search_245 = catalog.search(\n",
    "    collections=['cil-gdpcir-cc-by'],\n",
    "    query={\n",
    "        'cmip6:source_id': {'eq': model},\n",
    "        'cmip6:experiment_id': {'eq': scenario}\n",
    "    }\n",
    ")\n",
    "cmip_245_data = search_245.item_collection()"
   ]
  },
  {
   "cell_type": "code",
   "execution_count": null,
   "metadata": {},
   "outputs": [],
   "source": [
    "print(tucson_lon-360)"
   ]
  },
  {
   "cell_type": "code",
   "execution_count": null,
   "metadata": {},
   "outputs": [],
   "source": [
    "# TODO: Fill these out. You may want to show the result of `gfdl_245_data` \n",
    "#       to find these under the `assets` dropdown.\n",
    "tmax_varname = None\n",
    "tmin_varname = None\n",
    "\n",
    "# Nothing needed here\n",
    "cmip_245_tmax = cmip_245_data[0].assets[tmax_varname]\n",
    "cmip_245_tmax = xr.open_dataset(\n",
    "    cmip_245_tmax.href,\n",
    "    **cmip_245_tmax.extra_fields[\"xarray:open_kwargs\"]\n",
    ").chunk('auto')\n",
    "\n",
    "# Nothing needed here\n",
    "cmip_245_tmin = cmip_245_data[0].assets[tmin_varname]\n",
    "cmip_245_tmin = xr.open_dataset(\n",
    "    cmip_245_tmin.href,\n",
    "    **cmip_245_tmin.extra_fields[\"xarray:open_kwargs\"]\n",
    ").chunk('auto')\n",
    "\n",
    "# TODO: Use the xr.merge command to merge these together\n",
    "cmip_245_ds = None\n",
    "\n",
    "# TODO: Now calculate `tavg` as `(3 * tmax + tmin) / 4`\n",
    "cmip_245_ds['tavg'] = None"
   ]
  },
  {
   "cell_type": "code",
   "execution_count": null,
   "metadata": {},
   "outputs": [],
   "source": [
    "# TODO: Create a `slice` object that selects every 3rd point. Reminder slice notation has \n",
    "# the format of `start, stop, step`.\n",
    "cmip_time_slice = None\n",
    "\n",
    "# Nothing to do here. This is the same operation you did for the era5 data.\n",
    "# Note: This step will take a while - probably ~10 mins\n",
    "# Note: We subtract 360 from the lon because the CIL data uses a (-180, 180) \n",
    "tucson_cmip_245_temp = cmip_245_ds['tavg'].sel(\n",
    "    lat=tucson_lat, lon=tucson_lon-360, method='nearest'\n",
    ").isel(time=cmip_time_slice).resample(time='1M').mean().compute()\n",
    "\n",
    "# Nothing to do here. This just fixes some timestamps\n",
    "tucson_cmip_245_temp['time'] = tucson_cmip_245_temp['time'].astype('datetime64[ns]')"
   ]
  },
  {
   "cell_type": "code",
   "execution_count": null,
   "metadata": {},
   "outputs": [],
   "source": [
    "# TODO: Now repeat the last 3 code cells, but select out the SSP5-8.5 scenario\n",
    "tucson_cmip_585_temp = None"
   ]
  },
  {
   "cell_type": "code",
   "execution_count": null,
   "metadata": {},
   "outputs": [],
   "source": [
    "# TODO: Now repeat the last 3 code cells, but select out the SSP5-8.5 scenario\n",
    "tucson_cmip_hist_temp = None"
   ]
  },
  {
   "cell_type": "code",
   "execution_count": null,
   "metadata": {},
   "outputs": [],
   "source": [
    "# Nothing for you to do directly here\n",
    "tucson_era5_temperature.groupby('time.year').mean().plot(color='black', label='historic')\n",
    "tucson_cmip_hist_temp.groupby('time.year').mean().plot(color='darkgrey', linestyle='--', label='model')\n",
    "tucson_cmip_245_temp.groupby('time.year').mean().plot(color='steelblue', label='SSP2-4.5')\n",
    "tucson_cmip_585_temp.groupby('time.year').mean().plot(color='tomato', label='SSP5-8.5')\n",
    "plt.legend()"
   ]
  },
  {
   "cell_type": "code",
   "execution_count": null,
   "metadata": {},
   "outputs": [],
   "source": [
    "# TODO: Write up some reflection from this exercise. \n",
    "#  - What were we analyzing and why? \n",
    "#  - Are the results as you expect? \n",
    "#  - How might you extend the analysis to be more actionable?"
   ]
  },
  {
   "cell_type": "code",
   "execution_count": null,
   "metadata": {},
   "outputs": [],
   "source": [
    "# TODO: For 501 students only (2pts):\n",
    "# Align the historic data so that there are equal timestamps between the two\n",
    "# Fit a linear regression between the era5 and historic data \n",
    "# Then, apply it to the SSP2-4.5 and SSP5-8.5 projections \n",
    "# Finally, make the same plot as above for the \"corrected\" data"
   ]
  },
  {
   "cell_type": "code",
   "execution_count": null,
   "metadata": {},
   "outputs": [],
   "source": []
  },
  {
   "cell_type": "code",
   "execution_count": null,
   "metadata": {},
   "outputs": [],
   "source": []
  }
 ],
 "metadata": {
  "kernelspec": {
   "display_name": "init",
   "language": "python",
   "name": "python3"
  },
  "language_info": {
   "codemirror_mode": {
    "name": "ipython",
    "version": 3
   },
   "file_extension": ".py",
   "mimetype": "text/x-python",
   "name": "python",
   "nbconvert_exporter": "python",
   "pygments_lexer": "ipython3",
   "version": "3.10.13"
  }
 },
 "nbformat": 4,
 "nbformat_minor": 2
}
